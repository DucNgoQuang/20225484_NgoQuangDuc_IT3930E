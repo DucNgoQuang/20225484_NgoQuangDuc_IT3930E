{
 "cells": [
  {
   "cell_type": "code",
   "execution_count": null,
   "id": "fe3ad568",
   "metadata": {},
   "outputs": [
    {
     "ename": "",
     "evalue": "",
     "output_type": "error",
     "traceback": [
      "\u001b[1;31mRunning cells with '.venv (Python 3.11.8)' requires the ipykernel package.\n",
      "\u001b[1;31mInstall 'ipykernel' into the Python environment. \n",
      "\u001b[1;31mCommand: '/home/duc/Desktop/Project_2/.venv/bin/python -m pip install ipykernel -U --force-reinstall'"
     ]
    }
   ],
   "source": [
    "import datetime\n",
    "from pyspark.sql import SparkSession\n",
    "from pyspark.sql.types import StructType, StructField, StringType, IntegerType, FloatType\n",
    "from pyspark.sql.functions import from_json, split, trim, to_timestamp, col\n",
    "from dotenv import load_dotenv\n"
   ]
  },
  {
   "cell_type": "code",
   "execution_count": null,
   "id": "b71455a4",
   "metadata": {},
   "outputs": [],
   "source": [
    "spark = SparkSession.builder \\\n",
    "    .appName(\"DataFrame Example\") \\\n",
    "    .getOrCreate()"
   ]
  },
  {
   "cell_type": "code",
   "execution_count": null,
   "id": "8d7a19e3",
   "metadata": {},
   "outputs": [],
   "source": [
    "schema = StructType([\n",
    "    StructField('CustomerID', IntegerType(), True),\n",
    "    StructField(\"ProductID\", StringType(), True),\n",
    "    StructField(\"Quantity\", IntegerType(), True),\n",
    "    StructField(\"Price\", FloatType(), True),\n",
    "    StructField(\"TransactionDate\", StringType(), True),\n",
    "    StructField(\"PaymentMethod\", StringType(), True),\n",
    "    StructField(\"StoreLocation\", StringType(), True),\n",
    "    StructField(\"ProductCategory\", StringType(), True),\n",
    "    StructField(\"DiscountApplied(%)\", FloatType(), True),\n",
    "    StructField(\"TotalAmount\", FloatType(), True),\n",
    "])\n"
   ]
  },
  {
   "cell_type": "code",
   "execution_count": null,
   "id": "063f9bbe",
   "metadata": {},
   "outputs": [],
   "source": [
    "spark.sparkContext.setLogLevel(\"WARN\")  \n",
    "\n",
    "date = datetime.datetime.now().strftime('%d%m%y')\n",
    "file_path = f\"hdfs://localhost:9870/user/hdoop/retail_transactions_{date}/*\"\n",
    "\n",
    "df = spark.read.csv(file_path, header=True, schema=schema )\n",
    "\n",
    "df = df.withColumn(\"TransactionDate\", to_timestamp(col(\"TransactionDate\"), format=\"M/d/yyyy H:mm\")) \\\n",
    "                               .withColumn(\"Street\", trim(split(\"StoreLocation\", \"\\n\").getItem(0))) \\\n",
    "                               .withColumn(\"CityStateZip\", trim(split(\"StoreLocation\", \"\\n\").getItem(1)))\n",
    "\n",
    "df = df.withColumn(\"City\", trim(split(\"CityStateZip\", \",\").getItem(0))) \\\n",
    "                               .withColumn(\"StateZip\", trim(split(\"CityStateZip\", \",\").getItem(1)))\n",
    "\n",
    "df = df.withColumn(\"State\", trim(split(\"StateZip\", \" \").getItem(0))) \\\n",
    "                                .withColumn(\"ZipCode\", trim(split(\"StateZip\", \" \").getItem(1)).cast(IntegerType()))\n",
    "\n",
    "df = df.drop(\"StoreLocation\") \\\n",
    "                                .drop(\"CityStateZip\") \\\n",
    "                                .drop(\"StateZip\") \\\n",
    "                                .withColumnRenamed(\"DiscountApplied(%)\", \"DiscountAppliedPercent\" ) \\\n",
    "\n",
    "df.show()"
   ]
  },
  {
   "cell_type": "code",
   "execution_count": null,
   "id": "56d57b2c",
   "metadata": {},
   "outputs": [],
   "source": [
    "spark.stop()"
   ]
  }
 ],
 "metadata": {
  "kernelspec": {
   "display_name": ".venv",
   "language": "python",
   "name": "python3"
  },
  "language_info": {
   "name": "python",
   "version": "3.11.8"
  }
 },
 "nbformat": 4,
 "nbformat_minor": 5
}
